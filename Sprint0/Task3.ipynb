{
 "cells": [
  {
   "cell_type": "markdown",
   "metadata": {},
   "source": [
    "<h1 style=\"color:DodgerBlue\">Индивидальный проект</h1>"
   ]
  },
  {
   "cell_type": "markdown",
   "metadata": {},
   "source": [
    "<h2 style=\"color:DodgerBlue\">Название проекта:</h2>\n",
    "\n",
    "----\n",
    "\n",
    "### Вариант задания 5\n"
   ]
  },
  {
   "cell_type": "markdown",
   "metadata": {},
   "source": [
    "<h2 style=\"color:DodgerBlue\">Описание проекта:</h2>\n",
    "\n",
    "----\n",
    "\n",
    "Создать базовый класс Book в C#, который будет представлять информацию о\n",
    "книгах. На основе этого класса разработать 2-3 производных класса,\n",
    "демонстрирующих принципы наследования и полиморфизма. В каждом из классов\n",
    "должны быть реализованы новые атрибуты и методы, а также переопределены\n",
    "некоторые методы базового класса для демонстрации полиморфизма.\n",
    "\n",
    "Требования к базовому классу Book:\n",
    "• Атрибуты: Название (Title), Автор (Author), Год издания (YearOfPublication).\n",
    "• Методы:\n",
    "o GetInfo(): метод для получения информации о книге в виде строки.\n",
    "o Read(): метод для вывода сообщения о чтении книги.\n",
    "o Borrow(): метод для вывода сообщения о выдаче книги на чтение.\n",
    "\n",
    "Требования к производным классам:\n",
    "1. Учебник (Textbook): Должен содержать дополнительные атрибуты, такие как\n",
    "Предмет (Subject). Метод Read() должен быть переопределен для\n",
    "добавления информации о предмете при чтении учебника.\n",
    "2. Художественная литература (Fiction): Должен содержать дополнительные\n",
    "атрибуты, такие как Жанр (Genre). Метод Borrow() должен быть\n",
    "переопределен для добавления информации о жанре при выдаче книги на\n",
    "чтение.\n",
    "3. Научная литература (ScientificLiterature) (если требуется третий класс):\n",
    "Должен содержать дополнительные атрибуты, такие как Область науки\n",
    "(FieldOfScience). Метод GetInfo() должен быть переопределен для включения\n",
    "информации об области науки в описании книги.\n"
   ]
  },
  {
   "cell_type": "markdown",
   "metadata": {},
   "source": [
    "<h2 style=\"color:DodgerBlue\">Реализация:</h2>\n",
    "\n",
    "----"
   ]
  },
  {
   "cell_type": "code",
   "execution_count": 2,
   "metadata": {
    "dotnet_interactive": {
     "language": "csharp"
    },
    "polyglot_notebook": {
     "kernelName": "csharp"
    }
   },
   "outputs": [
    {
     "name": "stdout",
     "output_type": "stream",
     "text": [
      "Название: Великий Гэтсби\n",
      "Автор: Фрэнсис Скотт Фицджеральд\n",
      "Год публикации: 1925\n",
      "Название: Математика для инженеров\n",
      "Автор: Джон Доу\n",
      "Год публикации: 2020\n",
      "Название: 1984\n",
      "Автор: Джордж Оруэлл\n",
      "Год публикации: 1949\n",
      "Название: Краткая история времени\n",
      "Автор: Стивен Хокинг\n",
      "Год публикации: 1988\n",
      "Область науки: Физика\n",
      "Прочитана книга Великий Гэтсби от Фрэнсис Скотт Фицджеральд\n",
      "Прочитана книга Математика для инженеров от Джон Доу по предмету Математика\n",
      "Прочитана книга 1984 от Джордж Оруэлл\n",
      "Прочитана книга Краткая история времени от Стивен Хокинг\n",
      "Выдана книга Великий Гэтсби от Фрэнсис Скотт Фицджеральд\n",
      "Выдана книга Математика для инженеров от Джон Доу\n",
      "Выдана книга 1984 от Джордж Оруэлл в жанре Антиутопия\n",
      "Выдана книга Краткая история времени от Стивен Хокинг\n"
     ]
    }
   ],
   "source": [
    "class Book // Прописываем класс \n",
    "{\n",
    "    public string Title;\n",
    "    public string Author;\n",
    "    public int YearOfPublication;\n",
    "\n",
    "    public Book(string Title, string Author, int YearOfPublication)\n",
    "    {\n",
    "        this.Title = Title;\n",
    "        this.Author = Author;\n",
    "        this.YearOfPublication = YearOfPublication;\n",
    "    }\n",
    "\n",
    "    public virtual string GetInfo()\n",
    "    {\n",
    "        return $\"Название: {Title}\\nАвтор: {Author}\\nГод публикации: {YearOfPublication}\";\n",
    "    }\n",
    "\n",
    "    public virtual void Read()\n",
    "    {\n",
    "        Console.WriteLine($\"Прочитана книга {Title} от {Author}\");\n",
    "    }\n",
    "\n",
    "    public virtual void Borrow()\n",
    "    {\n",
    "        Console.WriteLine($\"Выдана книга {Title} от {Author}\");\n",
    "    }\n",
    "}\n",
    "\n",
    "class TextBook : Book\n",
    "{\n",
    "    public string Subject;\n",
    "\n",
    "    public TextBook(string title, string author, int yearOfPublication, string subject)\n",
    "        : base(title, author, yearOfPublication)\n",
    "    {\n",
    "        Subject = subject;\n",
    "    }\n",
    "\n",
    "    public override void Read()\n",
    "    {\n",
    "        Console.WriteLine($\"Прочитана книга {Title} от {Author} по предмету {Subject}\");\n",
    "    }\n",
    "}\n",
    "\n",
    "class Fiction : Book\n",
    "{\n",
    "    public string Genre;\n",
    "\n",
    "    public Fiction(string title, string author, int yearOfPublication, string genre)\n",
    "        : base(title, author, yearOfPublication)\n",
    "    {\n",
    "        Genre = genre;\n",
    "    }\n",
    "\n",
    "    public override void Borrow()\n",
    "    {\n",
    "        Console.WriteLine($\"Выдана книга {Title} от {Author} в жанре {Genre}\");\n",
    "    }\n",
    "}\n",
    "\n",
    "class ScientificLiterature : Book\n",
    "{\n",
    "    public string FieldOfScience;\n",
    "\n",
    "    public ScientificLiterature(string title, string author, int yearOfPublication, string fieldOfScience)\n",
    "        : base(title, author, yearOfPublication)\n",
    "    {\n",
    "        FieldOfScience = fieldOfScience;\n",
    "    }\n",
    "\n",
    "    public override string GetInfo()\n",
    "    {\n",
    "        return $\"Название: {Title}\\nАвтор: {Author}\\nГод публикации: {YearOfPublication}\\nОбласть науки: {FieldOfScience}\";\n",
    "    }\n",
    "}\n",
    "\n",
    "public class Program\n",
    "{\n",
    "    public static void Main()\n",
    "    {\n",
    "        // Создание экземпляров классов\n",
    "        Book book = new Book(\"Великий Гэтсби\", \"Фрэнсис Скотт Фицджеральд\", 1925);\n",
    "        TextBook textbook = new TextBook(\"Математика для инженеров\", \"Джон Доу\", 2020, \"Математика\");\n",
    "        Fiction fiction = new Fiction(\"1984\", \"Джордж Оруэлл\", 1949, \"Антиутопия\");\n",
    "        ScientificLiterature scientificLiterature = new ScientificLiterature(\"Краткая история времени\", \"Стивен Хокинг\", 1988, \"Физика\");\n",
    "\n",
    "        // Массив книг для демонстрации полиморфизма\n",
    "        Book[] books = { book, textbook, fiction, scientificLiterature };\n",
    "\n",
    "        // Вывод информации о каждой книге\n",
    "        foreach (var b in books)\n",
    "        {\n",
    "            Console.WriteLine(b.GetInfo());\n",
    "            b.Read();\n",
    "            b.Borrow();\n",
    "            Console.WriteLine(); // Пустая строка для разделения вывода\n",
    "        }\n",
    "\n",
    "        \n",
    "    }\n",
    "}\n",
    "\n",
    "// Вызов метода Main для выполнения программы\n",
    "Program.Main();"
   ]
  }
 ],
 "metadata": {
  "kernelspec": {
   "display_name": ".NET (C#)",
   "language": "C#",
   "name": ".net-csharp"
  },
  "polyglot_notebook": {
   "kernelInfo": {
    "defaultKernelName": "csharp",
    "items": [
     {
      "aliases": [],
      "languageName": "csharp",
      "name": "csharp"
     }
    ]
   }
  }
 },
 "nbformat": 4,
 "nbformat_minor": 2
}
