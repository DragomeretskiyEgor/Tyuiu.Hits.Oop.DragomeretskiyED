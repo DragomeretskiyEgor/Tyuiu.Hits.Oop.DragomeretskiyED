{
 "cells": [
  {
   "cell_type": "markdown",
   "metadata": {},
   "source": [
    "<h1 style=\"color:DodgerBlue\">Индивидальный проект</h1>"
   ]
  },
  {
   "cell_type": "markdown",
   "metadata": {},
   "source": [
    "<h2 style=\"color:DodgerBlue\">Название проекта:</h2>\n",
    "\n",
    "----\n",
    "\n",
    "### Вариант задания 5\n"
   ]
  },
  {
   "cell_type": "markdown",
   "metadata": {},
   "source": [
    "<h2 style=\"color:DodgerBlue\">Описание проекта:</h2>\n",
    "\n",
    "----\n",
    "\n",
    "Создать базовый класс Book в C#, который будет представлять информацию о\n",
    "книгах. На основе этого класса разработать 2-3 производных класса,\n",
    "демонстрирующих принципы наследования и полиморфизма. В каждом из классов\n",
    "должны быть реализованы новые атрибуты и методы, а также переопределены\n",
    "некоторые методы базового класса для демонстрации полиморфизма.\n",
    "\n",
    "Требования к базовому классу Book:\n",
    "• Атрибуты: Название (Title), Автор (Author), Год издания (YearOfPublication).\n",
    "• Методы:\n",
    "o GetInfo(): метод для получения информации о книге в виде строки.\n",
    "o Read(): метод для вывода сообщения о чтении книги.\n",
    "o Borrow(): метод для вывода сообщения о выдаче книги на чтение.\n",
    "\n",
    "Требования к производным классам:\n",
    "1. Учебник (Textbook): Должен содержать дополнительные атрибуты, такие как\n",
    "Предмет (Subject). Метод Read() должен быть переопределен для\n",
    "добавления информации о предмете при чтении учебника.\n",
    "2. Художественная литература (Fiction): Должен содержать дополнительные\n",
    "атрибуты, такие как Жанр (Genre). Метод Borrow() должен быть\n",
    "переопределен для добавления информации о жанре при выдаче книги на\n",
    "чтение.\n",
    "3. Научная литература (ScientificLiterature) (если требуется третий класс):\n",
    "Должен содержать дополнительные атрибуты, такие как Область науки\n",
    "(FieldOfScience). Метод GetInfo() должен быть переопределен для включения\n",
    "информации об области науки в описании книги.\n"
   ]
  },
  {
   "cell_type": "markdown",
   "metadata": {},
   "source": [
    "<h2 style=\"color:DodgerBlue\">Реализация:</h2>\n",
    "\n",
    "----"
   ]
  },
  {
   "cell_type": "code",
   "execution_count": 2,
   "metadata": {
    "dotnet_interactive": {
     "language": "csharp"
    },
    "polyglot_notebook": {
     "kernelName": "csharp"
    }
   },
   "outputs": [],
   "source": [
    "class Book // Прописываем класс \n",
    "{\n",
    "    public string Title;\n",
    "    public string Author;\n",
    "    public int YearOfPublication;\n",
    "\n",
    "    public Book(string Title, string Author, int YearOfPublication)\n",
    "    {\n",
    "        this.Title = Title;\n",
    "        this.Author = Author;\n",
    "        this.YearOfPublication = YearOfPublication;\n",
    "    }\n",
    "\n",
    "    public virtual string GetInfo()\n",
    "    {\n",
    "        return $\"Title: {Title}\\nAuthor: {Author}\\nYear of publication: {YearOfPublication}\";\n",
    "    }\n",
    "\n",
    "    public virtual string Read()\n",
    "    {\n",
    "        return \"Вы прочитали эту книгу.\";\n",
    "    }\n",
    "\n",
    "    public virtual string Borrow()\n",
    "    {\n",
    "        return \"Вы получили эту книгу.\";\n",
    "    }\n",
    "}\n",
    "\n",
    "class TextBook : Book\n",
    "{\n",
    "    public string Subject;\n",
    "\n",
    "    public TextBook(string title, string author, int yearOfPublication, string subject)\n",
    "        : base(title, author, yearOfPublication)\n",
    "    {\n",
    "        Subject = subject;\n",
    "    }\n",
    "\n",
    "    public override string Read()\n",
    "    {\n",
    "        return $\"Вы прочитали книгу по предмету {Subject}.\";\n",
    "    }\n",
    "}\n",
    "\n",
    "class Fiction : Book\n",
    "{\n",
    "    public string Genre;\n",
    "\n",
    "    public Fiction(string title, string author, int yearOfPublication, string genre)\n",
    "        : base(title, author, yearOfPublication)\n",
    "    {\n",
    "        Genre = genre;\n",
    "    }\n",
    "\n",
    "    public override string Borrow()\n",
    "    {\n",
    "        return $\"Вы получили книгу этого жанра {Genre}.\";\n",
    "    }\n",
    "}\n",
    "\n",
    "class ScientificLiterature : Book\n",
    "{\n",
    "    public string FieldOfScience;\n",
    "\n",
    "    public ScientificLiterature(string title, string author, int yearOfPublication, string fieldOfScience)\n",
    "        : base(title, author, yearOfPublication)\n",
    "    {\n",
    "        FieldOfScience = fieldOfScience;\n",
    "    }\n",
    "\n",
    "    public override string GetInfo()\n",
    "    {\n",
    "        return $\"Title: {Title}\\nAuthor: {Author}\\nYear of publication: {YearOfPublication}\\nField Of Science: {FieldOfScience}\";\n",
    "    }\n",
    "}"
   ]
  }
 ],
 "metadata": {
  "kernelspec": {
   "display_name": ".NET (C#)",
   "language": "C#",
   "name": ".net-csharp"
  },
  "polyglot_notebook": {
   "kernelInfo": {
    "defaultKernelName": "csharp",
    "items": [
     {
      "aliases": [],
      "languageName": "csharp",
      "name": "csharp"
     }
    ]
   }
  }
 },
 "nbformat": 4,
 "nbformat_minor": 2
}
